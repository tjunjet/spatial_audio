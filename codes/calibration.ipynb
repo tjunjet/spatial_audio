{
 "cells": [
  {
   "cell_type": "markdown",
   "metadata": {},
   "source": [
    "# Calibration\n",
    "This file analyzes the single harmonic 440Hz sine tone to calibrate the microphone"
   ]
  },
  {
   "cell_type": "code",
   "execution_count": 6,
   "metadata": {},
   "outputs": [],
   "source": [
    "import numpy as np\n",
    "import scipy.signal\n",
    "from scipy.io import wavfile\n",
    "import matplotlib.pyplot as plt"
   ]
  },
  {
   "cell_type": "code",
   "execution_count": 7,
   "metadata": {},
   "outputs": [
    {
     "name": "stdout",
     "output_type": "stream",
     "text": [
      "Sampling rate: 44100 \n"
     ]
    },
    {
     "data": {
      "text/plain": [
       "Text(0, 0.5, 'Amplitude')"
      ]
     },
     "execution_count": 7,
     "metadata": {},
     "output_type": "execute_result"
    },
    {
     "data": {
      "image/png": "[encoded data removed]",
      "text/plain": [
       "<Figure size 432x288 with 1 Axes>"
      ]
     },
     "metadata": {
      "needs_background": "light"
     },
     "output_type": "display_data"
    }
   ],
   "source": [
    "# Getting the 440Hz Sine Tone\n",
    "fs, tone = wavfile.read('../data/calibration_tones/A440.wav')\n",
    "\n",
    "# Finding the sampling rate\n",
    "print(f'Sampling rate: {fs} ')\n",
    "\n",
    "end = 10000\n",
    "tone_shortened = tone[:end]\n",
    "\n",
    "# Plotting the tone\n",
    "time_shortened = np.arange(1, tone_shortened.shape[0] + 1)\n",
    "\n",
    "# Plotting the graph\n",
    "plt.plot(time_shortened, tone_shortened)\n",
    "plt.title('440Hz Sine Wave')\n",
    "plt.xlabel('Time')\n",
    "plt.ylabel('Amplitude')\n"
   ]
  }
 ],
 "metadata": {
  "kernelspec": {
   "display_name": "Python 3.8.12",
   "language": "python",
   "name": "python3"
  },
  "language_info": {
   "codemirror_mode": {
    "name": "ipython",
    "version": 3
   },
   "file_extension": ".py",
   "mimetype": "text/x-python",
   "name": "python",
   "nbconvert_exporter": "python",
   "pygments_lexer": "ipython3",
   "version": "3.8.12"
  },
  "orig_nbformat": 4,
  "vscode": {
   "interpreter": {
    "hash": "38cca0c38332a56087b24af0bc80247f4fced29cb4f7f437d91dc159adec9c4e"
   }
  }
 },
 "nbformat": 4,
 "nbformat_minor": 2
}
