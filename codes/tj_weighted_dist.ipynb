{
 "cells": [
  {
   "cell_type": "code",
   "execution_count": 15,
   "metadata": {},
   "outputs": [],
   "source": [
    "import numpy as np\n",
    "import matplotlib.pyplot as plt\n",
    "from scipy.io import wavfile\n",
    "from scipy.signal import correlate, find_peaks\n",
    "import sounddevice as sd\n",
    "import wave\n",
    "# matplotlib qt"
   ]
  },
  {
   "cell_type": "markdown",
   "metadata": {},
   "source": [
    "# Microphone Parameters\n",
    "1. Mic Gain: 80\n",
    "2. Recording Mode: Ambisonics FuMa\n",
    "3. Recording Format (Sampling Rate): 48kHz\n",
    "4. Recording Format (Bit depth): 24-bit"
   ]
  },
  {
   "cell_type": "code",
   "execution_count": 16,
   "metadata": {},
   "outputs": [],
   "source": [
    "# Step 1: Define the parameters\n",
    "\n",
    "# Reference: Patricio et. al in [14] E. Patricio, A. Ruminski, A. Kuklasinski, \n",
    "# L. Januszkiewicz, and T. Zernicki, \"Toward Six Degrees of Freedom Audio \n",
    "# Recording and Playback Using Multiple Ambisonics Sound Fields,\" Paper 10141, \n",
    "# (2019 March.)\n",
    "\n",
    "# Number of microphones\n",
    "M = 3\n",
    "\n",
    "# Order of Ambisonics\n",
    "# We are using first order ambisonics in FuMa Format\n",
    "# Note: WAV Format: W,X,Y,Z\n",
    "P = 4\n",
    "\n",
    "# Placing the ambisonic microphones in a triangle, this is the length of the \n",
    "# triangle (in centimeters)\n",
    "triangle_side = 128\n",
    "\n",
    "# Constants for the attenuation function\n",
    "volume_threshold = 0.9\n",
    "volume_range = 0.9\n",
    "hoa_threshold = 0.9\n",
    "hoa_range = 1.3\n",
    "\n",
    "# Defining the indices of the channel\n",
    "w_channel = 0\n",
    "x_channel = 1\n",
    "y_channel = 2\n",
    "z_channel = 3\n",
    "\n",
    "# Defining the microphone positions as a global parameter\n",
    "mic_positions = np.zeros((3, 2))\n",
    "\n",
    "mic_positions[0, :] = [0, 0]\n",
    "mic_positions[1, :] = [triangle_side, 0]\n",
    "mic_positions[2, :] = [triangle_side / 2, (triangle_side * np.sqrt(3)) / 2]"
   ]
  },
  {
   "cell_type": "markdown",
   "metadata": {},
   "source": [
    "Functions for wav file processing"
   ]
  },
  {
   "cell_type": "code",
   "execution_count": 17,
   "metadata": {},
   "outputs": [],
   "source": [
    "from pydub import AudioSegment\n",
    "\n",
    "def get_num_channels(wav_file_path):\n",
    "    audio = AudioSegment.from_file(file=wav_file_path, format=\"wav\")  \n",
    "    num_channels = audio.channels\n",
    "    return num_channels"
   ]
  },
  {
   "cell_type": "code",
   "execution_count": 18,
   "metadata": {},
   "outputs": [],
   "source": [
    "\n",
    "def attenuation_and_rebalancing(d_m, t_l=volume_threshold, t_k=hoa_range, s_k_0=1.0, s_k_p_neg=-1.0, s_l_neg=-1.0):\n",
    "    \"\"\"\n",
    "    Distance-dependent attenuation and component re-balancing function.\n",
    "\n",
    "    Parameters:\n",
    "    - d_m: distance to the m-th microphone\n",
    "    - t_l: attenuation threshold\n",
    "    - t_k: re-balancing threshold\n",
    "    - s_k_0: slope for the 0th order component\n",
    "    - s_k_p_neg: slope for higher-order components (p>0)\n",
    "    - s_l_neg: slope for overall gain\n",
    "\n",
    "    Returns:\n",
    "    - Attenuation coefficient for the given distance\n",
    "    \"\"\"\n",
    "    # Equation (3)\n",
    "    def l(d_m):\n",
    "        # Piecewise function where: \n",
    "        # l(d_m) = 0 if d_m <= t_l\n",
    "        # l(d_m) = s_l(d_m - t_l) otherwise\n",
    "        return np.where(d_m <= t_l, 0, s_l(d_m - t_l))\n",
    "\n",
    "    # Equation (4)\n",
    "    def k_p(d_m):\n",
    "        # Piecewise function where: \n",
    "        # k_p(d_m) = 0 if d_m <= t_k\n",
    "        # k_p(d_m) = s_k_p(d_m - t_k) otherwise\n",
    "        return np.where(d_m <= t_k, 0, s_k_p(d_m - t_k))\n",
    "\n",
    "    # Component in equation (3)\n",
    "    def s_l(delta_d):\n",
    "        # Adjust this function based on the specific behavior of s_l\n",
    "        # For example, you can use a linear function: return s_l_neg * delta_d\n",
    "        return s_l_neg * delta_d\n",
    "\n",
    "    # Component in equation (4)\n",
    "    def s_k_p(delta_d):\n",
    "        # Adjust this function based on the specific behavior of s_k_p\n",
    "        # For p=0, the slope is positive; for p>0, the slope is negative\n",
    "        return np.where(delta_d <= 0, s_k_0, s_k_p_neg * delta_d)\n",
    "\n",
    "    # Equation (2)\n",
    "    return 10 ** ((l(d_m) + k_p(d_m)) / 20.0)\n",
    "\n",
    "# Function to compute the distance between the interpolation points and the microphone\n",
    "def compute_distance(interp_point, mic_number, triangle_side):\n",
    "    \n",
    "    # Euclidean distance between the interpolation point and the microphone\n",
    "\n",
    "    distance = np.linalg.norm(interp_point - mic_positions[mic_number, :])\n",
    "    return distance\n",
    "\n",
    "# Function to extract the w, x, y, z channel signals\n",
    "def extract_channels(mic_signal):\n",
    "    # W Channel (Omni directional)\n",
    "    w_signal = mic_signal[:, w_channel].astype(float)\n",
    "    # X Channel\n",
    "    x_signal = mic_signal[:, x_channel].astype(float)\n",
    "    # Y Channel\n",
    "    y_signal = mic_signal[:, w_channel].astype(float)\n",
    "    # Z Channel\n",
    "    z_signal = mic_signal[:, w_channel].astype(float)\n",
    "\n",
    "    return w_signal, x_signal, y_signal, z_signal\n",
    "\n",
    "# Getting the minimum length of the signals\n",
    "def get_min_length(mic1_signal, mic2_signal, mic3_signal):\n",
    "    return min(len(mic1_signal), len(mic2_signal), len(mic3_signal))\n",
    "\n"
   ]
  },
  {
   "cell_type": "code",
   "execution_count": 19,
   "metadata": {},
   "outputs": [
    {
     "name": "stderr",
     "output_type": "stream",
     "text": [
      "/var/folders/z7/38nrk_xn0gg2mnhxz1rbjtt00000gn/T/ipykernel_7915/2297862704.py:5: WavFileWarning: Chunk (non-data) not understood, skipping it.\n",
      "  fs, mic1_signal = wavfile.read('../data/02_14/mic1.WAV')\n",
      "/var/folders/z7/38nrk_xn0gg2mnhxz1rbjtt00000gn/T/ipykernel_7915/2297862704.py:6: WavFileWarning: Chunk (non-data) not understood, skipping it.\n",
      "  _, mic2_signal = wavfile.read('../data/02_14/mic2.WAV')\n",
      "/var/folders/z7/38nrk_xn0gg2mnhxz1rbjtt00000gn/T/ipykernel_7915/2297862704.py:7: WavFileWarning: Chunk (non-data) not understood, skipping it.\n",
      "  _, mic3_signal = wavfile.read('../data/02_14/mic3.WAV')\n"
     ]
    },
    {
     "name": "stdout",
     "output_type": "stream",
     "text": [
      "(2587520, 4)\n",
      "(2566528, 4)\n",
      "(2518272, 4)\n",
      "Correlation12: [-1.14272380e+18+184.40350237j -1.13446719e+18-148.04268678j\n",
      " -1.12552643e+18+119.76907451j ... -1.16524966e+18-473.69271351j\n",
      " -1.15801704e+18-196.13732071j -1.15071125e+18-414.18482227j]\n",
      "Correlation13: [-2.14657298e+18-174.18451473j -2.21620765e+18-425.63638552j\n",
      " -2.28194415e+18-496.89105181j ... -1.92431041e+18-696.38117843j\n",
      " -2.00038743e+18-510.95758983j -2.07439590e+18-463.30625341j]\n",
      "Correlation23: [-7.36816641e+18 -238.30217916j -7.09638845e+18 -739.04417654j\n",
      " -6.81983401e+18-1872.43279386j ... -8.15102654e+18-1242.7306727j\n",
      " -7.89569552e+18 -451.19771004j -7.63456066e+18-1557.63332983j]\n",
      "Time delay between mic1 and mic2: 4.60152 seconds\n",
      "Time delay between mic1 and mic3: 9.29875 seconds\n",
      "Time delay between mic2 and mic3: 4.70890 seconds\n"
     ]
    }
   ],
   "source": [
    "import numpy as np\n",
    "import scipy.signal\n",
    "from scipy.io import wavfile\n",
    "\n",
    "fs, mic1_signal = wavfile.read('../data/02_14/mic1.WAV')\n",
    "_, mic2_signal = wavfile.read('../data/02_14/mic2.WAV')\n",
    "_, mic3_signal = wavfile.read('../data/02_14/mic3.WAV')\n",
    "print(mic1_signal.shape)\n",
    "print(mic2_signal.shape)\n",
    "print(mic3_signal.shape)\n",
    "\n",
    "# Extracting the data from each channel\n",
    "mic1_w_signal, mic1_x_signal, mic1_y_signal, mic1_z_signal = extract_channels(mic1_signal)\n",
    "mic2_w_signal, mic2_x_signal, mic2_y_signal, mic2_z_signal = extract_channels(mic2_signal)\n",
    "mic3_w_signal, mic3_x_signal, mic3_y_signal, mic3_z_signal = extract_channels(mic3_signal)\n",
    "\n",
    "# Making the microphone signals all the same length as the lowest one\n",
    "min_w_length = get_min_length(mic1_w_signal, mic2_w_signal, mic3_w_signal)\n",
    "min_x_length = get_min_length(mic1_x_signal, mic2_x_signal, mic3_x_signal)\n",
    "min_y_length = get_min_length(mic1_y_signal, mic2_y_signal, mic3_y_signal)\n",
    "min_z_length = get_min_length(mic1_z_signal, mic2_z_signal, mic3_z_signal)\n",
    "assert(min_w_length == min_x_length == min_y_length == min_z_length)\n",
    "\n",
    "start = 500000\n",
    "min_length = min_w_length # Once we confirmed that the channel lengths are the same\n",
    "\n",
    "# Making all the signals the minimum length\n",
    "# Mic 1\n",
    "mic1_w_signal = mic1_w_signal[start:min_length]\n",
    "mic1_x_signal = mic1_x_signal[start:min_length]\n",
    "mic1_y_signal = mic1_y_signal[start:min_length]\n",
    "mic1_z_signal = mic1_z_signal[start:min_length]\n",
    "\n",
    "# Mic 2\n",
    "mic2_w_signal = mic2_w_signal[start:min_length]\n",
    "mic2_x_signal = mic2_x_signal[start:min_length]\n",
    "mic2_y_signal = mic2_y_signal[start:min_length]\n",
    "mic2_z_signal = mic2_z_signal[start:min_length]\n",
    "\n",
    "# Mic 3\n",
    "mic3_w_signal = mic3_w_signal[start:min_length]\n",
    "mic3_x_signal = mic3_x_signal[start:min_length]\n",
    "mic3_y_signal = mic3_y_signal[start:min_length]\n",
    "mic3_z_signal = mic3_z_signal[start:min_length]\n",
    "\n",
    "# @TODO: Let's just see if we can re-create the signals\n",
    "matrix_1 = np.column_stack((mic1_w_signal, mic1_x_signal, mic1_y_signal, mic1_z_signal))\n",
    "matrix_2 = np.column_stack((mic2_w_signal, mic2_x_signal, mic2_y_signal, mic2_z_signal))\n",
    "matrix_3 = np.column_stack((mic3_w_signal, mic3_x_signal, mic3_y_signal, mic3_z_signal))\n",
    "\n",
    "# Generating the wav files from the matrix\n",
    "matrices = [matrix_1, matrix_2, matrix_3]\n",
    "# output_filenames = [\"output_mic1.wav\", \"output_mic2.wav\", \"output_m3.wav\"]\n",
    "\n",
    "for i in range(len(matrices)):\n",
    "    wavfile.write(f'intermediate_mic{i+1}.wav', fs, matrices[i])\n",
    "\n",
    "# Regenerating the wav files from the signals\n",
    "# Perform the Fourier transform of the omnidirectional signals\n",
    "f_mic1 = np.fft.fft(mic1_w_signal)\n",
    "f_mic2 = np.fft.fft(mic2_w_signal)\n",
    "f_mic3 = np.fft.fft(mic3_w_signal)\n",
    "\n",
    "# # Calculate cross-correlation in the frequency domain\n",
    "# # np.conj: Finds the complex conjugate of the fourier transform\n",
    "\n",
    "correlation12 = np.fft.ifft(f_mic1 * np.conj(f_mic2))\n",
    "correlation13 = np.fft.ifft(f_mic1 * np.conj(f_mic3))\n",
    "correlation23 = np.fft.ifft(f_mic2 * np.conj(f_mic3))\n",
    "\n",
    "print(f'Correlation12: {correlation12}')\n",
    "print(f'Correlation13: {correlation13}')\n",
    "print(f'Correlation23: {correlation23}')\n",
    "\n",
    "# Find the lag with maximum correlation\n",
    "lag12 = np.argmax(np.abs(correlation12))\n",
    "lag13 = np.argmax(np.abs(correlation13))\n",
    "lag23 = np.argmax(np.abs(correlation23))\n",
    "\n",
    "# Calculate time delays\n",
    "delay12 = lag12 / fs\n",
    "delay13 = lag13 / fs\n",
    "delay23 = lag23 / fs\n",
    "\n",
    "print(f'Time delay between mic1 and mic2: {delay12:.5f} seconds')\n",
    "print(f'Time delay between mic1 and mic3: {delay13:.5f} seconds')\n",
    "print(f'Time delay between mic2 and mic3: {delay23:.5f} seconds')\n",
    "\n",
    "lag = np.array([lag13, lag23, 0])"
   ]
  },
  {
   "cell_type": "code",
   "execution_count": 22,
   "metadata": {},
   "outputs": [
    {
     "name": "stderr",
     "output_type": "stream",
     "text": [
      "/var/folders/z7/38nrk_xn0gg2mnhxz1rbjtt00000gn/T/ipykernel_7915/1981628507.py:6: WavFileWarning: Chunk (non-data) not understood, skipping it.\n",
      "  max_samples = max([wavfile.read(path_to_files + file_name)[1].shape[0] for file_name in file_names])\n"
     ]
    },
    {
     "name": "stdout",
     "output_type": "stream",
     "text": [
      "Max Samples: 2587520\n",
      "y_m_p: (3, 4, 2587520)\n"
     ]
    },
    {
     "name": "stderr",
     "output_type": "stream",
     "text": [
      "/var/folders/z7/38nrk_xn0gg2mnhxz1rbjtt00000gn/T/ipykernel_7915/1981628507.py:14: WavFileWarning: Chunk (non-data) not understood, skipping it.\n",
      "  fs, y = wavfile.read(path_to_files + file_names[m])\n"
     ]
    },
    {
     "name": "stdout",
     "output_type": "stream",
     "text": [
      "2587520\n"
     ]
    }
   ],
   "source": [
    "# Step 2: Load your ambisonic signals y_m_p(n) from WAV files\n",
    "path_to_files = '../data/02_14/'\n",
    "file_names = ['mic1.wav', 'mic2.wav', 'mic3.wav']  # Adjust with your file names\n",
    "\n",
    "# Initialize an array to store ambisonic signals\n",
    "max_samples = max([wavfile.read(path_to_files + file_name)[1].shape[0] for file_name in file_names])\n",
    "print(f'Max Samples: {max_samples}')\n",
    "y_m_p = np.zeros((M, P, max_samples))  # Initialize with the maximum number of samples\n",
    "print(f'y_m_p: {y_m_p.shape}')\n",
    "\n",
    "# This takes the y_m_p values\n",
    "for m in range(M):\n",
    "    # Read the WAV file\n",
    "    fs, y = wavfile.read(path_to_files + file_names[m])\n",
    "    \n",
    "    y = y[lag[m]: , :]\n",
    "    \n",
    "    # Take the 4 channels \n",
    "    y_m_p[m, :, :y.shape[0]] = y[:, :P].T\n",
    "\n",
    "# Step 3: Implement the interpolation algorithm\n",
    "\n",
    "# Number of samples\n",
    "N = y_m_p.shape[2]\n",
    "\n",
    "# Initialize the interpolated signal\n",
    "x_p = np.zeros(N)"
   ]
  },
  {
   "cell_type": "markdown",
   "metadata": {},
   "source": []
  },
  {
   "cell_type": "code",
   "execution_count": 33,
   "metadata": {},
   "outputs": [
    {
     "name": "stdout",
     "output_type": "stream",
     "text": [
      "a_p_values shape: (3, 2587520)\n",
      "a_p_values: [[0. 0. 0. ... 0. 0. 0.]\n",
      " [0. 0. 0. ... 0. 0. 0.]\n",
      " [0. 0. 0. ... 0. 0. 0.]]\n",
      "a_p_values shape: (3, 1)\n",
      "a_p_values: [[5.24706633e-08]\n",
      " [5.24706633e-08]\n",
      " [5.24706633e-08]]\n",
      "x_p_values: (2587520,)\n",
      "(2587520,)\n"
     ]
    },
    {
     "data": {
      "image/png": "[encoded data removed]",
      "text/plain": [
       "<Figure size 640x480 with 1 Axes>"
      ]
     },
     "metadata": {},
     "output_type": "display_data"
    }
   ],
   "source": [
    "# Interpolation point coordinates\n",
    "\n",
    "interp_point = np.array([triangle_side / 2, (triangle_side * np.sqrt(3)) / 6])  # centroid\n",
    "# interp_point =  [1.05, (triangle_side * np.sqrt(3)) / 6]\n",
    "\n",
    "# Initialize an array to store the attenuation coefficients for each microphone\n",
    "a_p_values = np.zeros((M, N))\n",
    "print(f'a_p_values shape: {a_p_values.shape}')\n",
    "print(f'a_p_values: {a_p_values}')\n",
    "\n",
    "# Compute the distance for all samples at once (This is the d_m function)\n",
    "distances = np.array([compute_distance(interp_point, m, triangle_side) for m in range(M)])\n",
    "print(f'distances: {a_p_values}')\n",
    "\n",
    "# Compute the attenuation coefficients for each microphone using broadcasting (This calculates the a_p(d_m))\n",
    "a_p_values = attenuation_and_rebalancing(distances[:, np.newaxis])\n",
    "print(f'a_p_values shape: {a_p_values.shape}')\n",
    "print(f'a_p_values: {a_p_values}')\n",
    "\n",
    "\n",
    "# Update the interpolated signal using vectorized NumPy operations\n",
    "x_p = np.sum(a_p_values[:, :, np.newaxis] * y_m_p, axis=(0, 1))\n",
    "print(f'x_p_values: {x_p.shape}')\n",
    "\n",
    "x_p = x_p/500.0\n",
    "\n",
    "# Plot\n",
    "time_axis = np.arange(1, N + 1)\n",
    "wavfile.write('output_median4.wav', fs, x_p)\n",
    "\n",
    "# Finding the number of channels x_p has\n",
    "_, interpolated_signal = wavfile.read('output_median4.WAV')\n",
    "print(interpolated_signal.shape)\n",
    "\n",
    "plt.plot(time_axis, x_p)\n",
    "plt.title('Interpolated Signal')\n",
    "plt.xlabel('Time')\n",
    "plt.ylabel('Amplitude')\n",
    "plt.show()"
   ]
  },
  {
   "cell_type": "code",
   "execution_count": null,
   "metadata": {},
   "outputs": [],
   "source": []
  }
 ],
 "metadata": {
  "kernelspec": {
   "display_name": "Python 3.11.5 ('arenaEnv')",
   "language": "python",
   "name": "python3"
  },
  "language_info": {
   "codemirror_mode": {
    "name": "ipython",
    "version": 3
   },
   "file_extension": ".py",
   "mimetype": "text/x-python",
   "name": "python",
   "nbconvert_exporter": "python",
   "pygments_lexer": "ipython3",
   "version": "3.11.7"
  },
  "orig_nbformat": 4,
  "vscode": {
   "interpreter": {
    "hash": "75234d7791d6348670231b39a4a99add5994d1efc0a274dd117b51e2e2d27ac7"
   }
  }
 },
 "nbformat": 4,
 "nbformat_minor": 2
}
